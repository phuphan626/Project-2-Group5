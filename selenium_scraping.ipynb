{
 "cells": [
  {
   "cell_type": "code",
   "execution_count": 2,
   "metadata": {},
   "outputs": [],
   "source": [
    "# import statsapi\n",
    "import sqlalchemy\n",
    "import pandas as pd\n",
    "import requests\n",
    "from bs4 import BeautifulSoup\n",
    "import re\n",
    "import time, os\n",
    "from selenium import webdriver\n",
    "\n",
    "chromedriver = \"/Applications/chromedriver\"\n",
    "os.environ[\"webdriver.chrome.driver\"] = chromedriver"
   ]
  },
  {
   "cell_type": "code",
   "execution_count": 2,
   "metadata": {},
   "outputs": [
    {
     "name": "stderr",
     "output_type": "stream",
     "text": [
      "ERROR: Could not find a version that satisfies the requirement statsapi (from versions: none)\n",
      "ERROR: No matching distribution found for statsapi\n"
     ]
    }
   ],
   "source": [
    "!pip install statsapi\n",
    "\n"
   ]
  },
  {
   "cell_type": "code",
   "execution_count": null,
   "metadata": {},
   "outputs": [],
   "source": [
    "# def division_standings(league, division):\n",
    "#     standings = pd.DataFrame(statsapi.standings_data(league)[division]['teams'])\n",
    "#     standings = standings[['name', 'div_rank', 'gb', 'w','l']]\n",
    "#     return standings\n",
    "# division_standings(104, 204)"
   ]
  },
  {
   "cell_type": "code",
   "execution_count": null,
   "metadata": {},
   "outputs": [],
   "source": [
    "# print(statsapi.league_leaders('homeruns',statGroup='hitting',limit=5,season=1980) )"
   ]
  },
  {
   "cell_type": "code",
   "execution_count": null,
   "metadata": {},
   "outputs": [],
   "source": [
    "# pip install requests beautifulsoup4"
   ]
  },
  {
   "cell_type": "code",
   "execution_count": null,
   "metadata": {},
   "outputs": [],
   "source": [
    "# page = requests.get('hhttps://www.baseball-reference.com/leagues/MLB/bat.shtml’)\n",
    "# # this doesnt work for baseball reference, have to use selenium with dynamic content on pages"
   ]
  },
  {
   "cell_type": "code",
   "execution_count": null,
   "metadata": {},
   "outputs": [],
   "source": []
  },
  {
   "cell_type": "code",
   "execution_count": null,
   "metadata": {},
   "outputs": [],
   "source": [
    "# driver = webdriver.Chrome('/usr/local/bin/chromedriver-2')  # Optional argument, if not specified will search path.\n",
    "# driver.get('http://www.google.com/');\n",
    "# time.sleep(5) # Let the user actually see something!\n",
    "# search_box = driver.find_element_by_name('q')\n",
    "# search_box.send_keys('ChromeDriver')\n",
    "# search_box.submit()\n",
    "# time.sleep(5) # Let the user actually see something!\n"
   ]
  },
  {
   "cell_type": "code",
   "execution_count": null,
   "metadata": {},
   "outputs": [],
   "source": [
    "# driver.get('https://www.baseball-reference.com/leagues/MLB/2016-starter-pitching.shtml')\n",
    "# time.sleep(5)\n",
    "# driver.execute_script(\"window.scrollTo(0, 1500);\")"
   ]
  },
  {
   "cell_type": "code",
   "execution_count": null,
   "metadata": {},
   "outputs": [],
   "source": [
    "def get_csv_bbref(link_list):\n",
    "    soup_list = []\n",
    "    for i in link_list:\n",
    "        driver = webdriver.Chrome(chromedriver)\n",
    "        driver.get(i)\n",
    "        time.sleep(5)\n",
    "        driver.execute_script(\"window.scrollTo(0, 1500);\")\n",
    "        driver.find_element_by_xpath('//*[@id=\"all_players_starter_pitching\"]/div[1]/div/ul/li[1]').click()\n",
    "        time.sleep(5)\n",
    "        driver.find_element_by_xpath('//*[@id=\"all_players_starter_pitching\"]/div[1]/div/ul/li[1]/div/ul/li[4]/button').click()\n",
    "        soup = BeautifulSoup(driver.page_source, 'html.parser')\n",
    "        crude = soup.find('pre', id = 'csv_players_starter_pitching').text.split(\"\\n\")\n",
    "        soup_list.append(crude)\n",
    "    return soup_list"
   ]
  },
  {
   "cell_type": "code",
   "execution_count": null,
   "metadata": {},
   "outputs": [],
   "source": [
    "#get all pages at once\n",
    "bbref_list = ['https://www.baseball-reference.com/leagues/MLB/2016-starter-pitching.shtml', \n",
    "              'https://www.baseball-reference.com/leagues/MLB/2017-starter-pitching.shtml',\n",
    "              'https://www.baseball-reference.com/leagues/MLB/2018-starter-pitching.shtml',\n",
    "              'https://www.baseball-reference.com/leagues/MLB/2019-starter-pitching.shtml']"
   ]
  },
  {
   "cell_type": "code",
   "execution_count": null,
   "metadata": {},
   "outputs": [],
   "source": [
    "raw_csv_data_list = get_csv_bbref(bbref_list)\n"
   ]
  },
  {
   "cell_type": "code",
   "execution_count": null,
   "metadata": {},
   "outputs": [],
   "source": [
    "def clean_crude(csv):\n",
    "    no_blank = [] \n",
    "    for i in csv:\n",
    "        for j in i:\n",
    "            if j != '':\n",
    "                no_blank.append(j)\n",
    "        new_data_split = []\n",
    "    for i in no_blank:\n",
    "        new_line = pd.DataFrame(i.split(','))\n",
    "        new_data_split.append(new_line)\n",
    "    season_data = pd.concat(new_data_split, ignore_index = True, axis = 1).T\n",
    "    header = season_data.iloc[0]\n",
    "    season_data = season_data[1:]\n",
    "    season_data.columns = header\n",
    "    season_data.drop(columns = ['Rk'], inplace = True)\n",
    "    return season_data"
   ]
  },
  {
   "cell_type": "code",
   "execution_count": null,
   "metadata": {},
   "outputs": [],
   "source": [
    "# clean_2016 = clean_crude(raw_csv_data_2016)\n",
    "clean_2016.to_csv('season_2016.csv', index = False)"
   ]
  },
  {
   "cell_type": "code",
   "execution_count": null,
   "metadata": {},
   "outputs": [],
   "source": []
  }
 ],
 "metadata": {
  "kernelspec": {
   "display_name": "Python 3",
   "language": "python",
   "name": "python3"
  },
  "language_info": {
   "codemirror_mode": {
    "name": "ipython",
    "version": 3
   },
   "file_extension": ".py",
   "mimetype": "text/x-python",
   "name": "python",
   "nbconvert_exporter": "python",
   "pygments_lexer": "ipython3",
   "version": "3.6.10"
  }
 },
 "nbformat": 4,
 "nbformat_minor": 4
}
